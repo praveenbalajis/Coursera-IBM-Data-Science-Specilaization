{
 "cells": [
  {
   "cell_type": "markdown",
   "metadata": {},
   "source": [
    "# Capstone Project: The Battle of Neighborhoods (Week 1)"
   ]
  },
  {
   "cell_type": "markdown",
   "metadata": {},
   "source": [
    "## Air Pollution Analysis of Indian Cities"
   ]
  },
  {
   "cell_type": "markdown",
   "metadata": {},
   "source": [
    "### Table of Contents\n",
    "\n",
    "Introduction/ Business Problem"
   ]
  },
  {
   "cell_type": "markdown",
   "metadata": {},
   "source": [
    "### Introduction/ Business Problem"
   ]
  },
  {
   "cell_type": "markdown",
   "metadata": {},
   "source": [
    "Air pollution is a problem affecting all parts of the world. In India, a developing country, various industries have been set up in the vicinity of populated cities. The pollution from these industries, the pollution from automobiles and various other sources inadvertently affect the population living in the cities. This is bound to result in diseases related to the respiratory system and affects the general quality of life of the people living in the cities.\n",
    "\n",
    "This project focuses on incorporating the air pollution data of various cities of India and the number of hospitals in the corresponding city to create a relation between the air quality of a city and the availability of hospitals for the occupants of the city.\n",
    "\n",
    "We will explore the similarity between cities using K-means clustering to find the cities with good air quality to the number of hospitals ratio and also the ones with a bad ratio.\n",
    "\n",
    "#### Target Audience\n",
    "\n",
    "The final report of this project can be used by:\n",
    "\n",
    "1. Corporate hospitals: They can set up new hospitals in cities that have high air pollution and less number of hospitals. They can invest in and revamp hospitals existing in polluted cities to treat respiratory system related problems in a more sophisticated manner.\n",
    "\n",
    "2. Insurance/Healthcare companies: These companies can provide policies exclusive to cities with high pollution to cover respiratory-related issues and make it easy for people with existing issues to get better treatment.\n",
    "\n",
    "3. Pharmaceutical companies: They can regulate the supply of medicines and types of equipments to meet the demand in the cities.\n",
    "\n",
    "4. Government bodies: They can use this report to sanction the industries in these polluted cities. It can provide relief to people suffering from respiratory-related issues and the relief can vary from city to city based on the pollution and the number of hospitals available in these cities."
   ]
  }
 ],
 "metadata": {
  "kernelspec": {
   "display_name": "Python 3",
   "language": "python",
   "name": "python3"
  },
  "language_info": {
   "codemirror_mode": {
    "name": "ipython",
    "version": 3
   },
   "file_extension": ".py",
   "mimetype": "text/x-python",
   "name": "python",
   "nbconvert_exporter": "python",
   "pygments_lexer": "ipython3",
   "version": "3.7.3"
  }
 },
 "nbformat": 4,
 "nbformat_minor": 2
}
