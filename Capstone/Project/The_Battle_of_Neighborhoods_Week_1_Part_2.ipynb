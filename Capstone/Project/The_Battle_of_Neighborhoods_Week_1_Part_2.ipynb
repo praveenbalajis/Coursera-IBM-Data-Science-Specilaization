{
 "cells": [
  {
   "cell_type": "markdown",
   "metadata": {},
   "source": [
    "# Capstone Project: The Battle of Neighbouhoods (Week 1)"
   ]
  },
  {
   "cell_type": "markdown",
   "metadata": {},
   "source": [
    "## Air Pollution Analysis of Indian Cities"
   ]
  },
  {
   "cell_type": "markdown",
   "metadata": {},
   "source": [
    "### Data Description"
   ]
  },
  {
   "cell_type": "markdown",
   "metadata": {},
   "source": [
    "### Source\n",
    "To solve the problem described in the Business Problem section, we need to have data on:\n",
    "* Air pollution across various cities in India\n",
    "* The location of hospitals in and near a city\n",
    "\n",
    "Hence, this project needs to get datasets as stated above.\n",
    "\n",
    "#### Air Pollution Data\n",
    "\n",
    "The dataset has been downloaded from the opensource website \"kaggle.com\". The link to the dataset:\n",
    "https://www.kaggle.com/shrutibhargava94/india-air-quality-data\n",
    "This dataset has been combined across the years and states and is the clean version of the Historical Daily Ambient Air Quality Data released by the Ministry of Environment and Forests and Central Pollution Control Board of India under the National Data Sharing and Accessibility Policy (NDSAP).\n",
    "\n",
    "* The dataset contains the following columns:\n",
    "    * stn_code: Station Code of the Central Pollution Control Board of India.\n",
    "    * sampling_date: Sampling Date\n",
    "    * state: State\n",
    "    * location: City\n",
    "    * agency: Agency that took the reading of the pollutants\n",
    "    * type: Area category\n",
    "    * so2: Sulphur dioxde\n",
    "    * no2: Nitrogen dioxide\n",
    "    * rspm: Respirable Suspended Particulate Matter\n",
    "    * spm: Suspended Particulate Matter\n",
    "    * location_monitoring_station: Location of monitoring area\n",
    "    * pm2_5: PSI 2.5\n",
    "    * date: Date of recording\n",
    "    \n",
    "    \n",
    "* Of these columns, we only need the following:\n",
    "    * state: State\n",
    "    * location: City\n",
    "    * so2: Sulphur dioxde\n",
    "    * no2: Nitrogen dioxide\n",
    "    \n",
    "The datas contains the readings from 1980 - 2016. Since the focus of this project is mainly to get an overall idea of the state of air pollution in a city, we will simply calculate the average of the emissions, NO2 and SO2, in each city over the years.\n",
    "\n",
    "\n",
    "#### Hospital data\n",
    "This data can be acquired using the FourSquare API.\n",
    "\n",
    "### Data Wrangling\n",
    "\n",
    "The data wrangling aspect of this project is executed in the following way:\n",
    "1. Clean the air pollution dataset.\n",
    "2. Remove the unnecessary columns in the dataset and keep only the necessary ones, namely,\n",
    "    * State\n",
    "    * Location\n",
    "    * SO2\n",
    "    * NO2\n",
    "3. Remove the rows with null value entry.\n",
    "4. Correct the errenous location entries.\n",
    "5. Group the cities based on the states they belong to.\n",
    "6. Calculate the average NO2 and SO2\n",
    "2. Get the geographical coordinates, latitude and longitude, of all the cities in the dataset using geopy.geocoder, Nominatim package."
   ]
  },
  {
   "cell_type": "markdown",
   "metadata": {},
   "source": [
    "### Final Dataset"
   ]
  },
  {
   "cell_type": "markdown",
   "metadata": {},
   "source": [
    "After conducting the data wrangling process, we finally have a dataset as shown in the picture below."
   ]
  },
  {
   "cell_type": "markdown",
   "metadata": {},
   "source": [
    "![Title](Data_pic.jpg)"
   ]
  },
  {
   "cell_type": "markdown",
   "metadata": {},
   "source": [
    "![Title](https://octodex.github.com/images/yaktocat.png)"
   ]
  },
  {
   "cell_type": "markdown",
   "metadata": {},
   "source": [
    "This picture shows the first 21 entries in the dataset, grouped by State and sorted by the cities in the state."
   ]
  },
  {
   "cell_type": "markdown",
   "metadata": {},
   "source": [
    "### Thank You"
   ]
  }
 ],
 "metadata": {
  "kernelspec": {
   "display_name": "Python 3",
   "language": "python",
   "name": "python3"
  },
  "language_info": {
   "codemirror_mode": {
    "name": "ipython",
    "version": 3
   },
   "file_extension": ".py",
   "mimetype": "text/x-python",
   "name": "python",
   "nbconvert_exporter": "python",
   "pygments_lexer": "ipython3",
   "version": "3.7.3"
  }
 },
 "nbformat": 4,
 "nbformat_minor": 2
}
